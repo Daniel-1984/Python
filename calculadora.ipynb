{
  "nbformat": 4,
  "nbformat_minor": 0,
  "metadata": {
    "colab": {
      "provenance": [],
      "authorship_tag": "ABX9TyMsavgAW+fNEF4O4cmSl1t2",
      "include_colab_link": true
    },
    "kernelspec": {
      "name": "python3",
      "display_name": "Python 3"
    },
    "language_info": {
      "name": "python"
    }
  },
  "cells": [
    {
      "cell_type": "markdown",
      "metadata": {
        "id": "view-in-github",
        "colab_type": "text"
      },
      "source": [
        "<a href=\"https://colab.research.google.com/github/Daniel-1984/Python/blob/main/calculadora.ipynb\" target=\"_parent\"><img src=\"https://colab.research.google.com/assets/colab-badge.svg\" alt=\"Open In Colab\"/></a>"
      ]
    },
    {
      "cell_type": "code",
      "source": [
        "from workalendar.america import Brazil\n",
        "from datetime import date\n",
        "\n",
        "def obter_data_do_usuario(mensagem):\n",
        "    while True:\n",
        "        data_str = input(mensagem)\n",
        "        try:\n",
        "            dia, mes, ano = map(int, data_str.split('/'))\n",
        "            return date(ano, mes, dia)\n",
        "        except ValueError:\n",
        "            print(\"Por favor, insira a data no formato DIA/MÊS/ANO.\")\n",
        "\n",
        "cal = Brazil()\n",
        "\n",
        "data1 = obter_data_do_usuario(\"Insira a primeira data (DIA/MÊS/ANO): \")\n",
        "data2 = obter_data_do_usuario(\"Insira a segunda data (DIA/MÊS/ANO): \")\n",
        "\n",
        "dias_uteis = cal.get_working_days_delta(data1, data2)\n",
        "print(f\"Há {dias_uteis} dias úteis entre {data1} e {data2}, considerando feriados.\")\n"
      ],
      "metadata": {
        "colab": {
          "base_uri": "https://localhost:8080/"
        },
        "id": "GyOBS-2NUiEV",
        "outputId": "36cba493-0a64-47d6-dfb1-bb0a17d6ba5b"
      },
      "execution_count": 28,
      "outputs": [
        {
          "output_type": "stream",
          "name": "stdout",
          "text": [
            "Insira a primeira data (DIA/MÊS/ANO): 30/03/2023\n",
            "Insira a segunda data (DIA/MÊS/ANO): 30/04/2023\n",
            "Há 20 dias úteis entre 2023-03-30 e 2023-04-30, considerando feriados.\n"
          ]
        }
      ]
    },
    {
      "cell_type": "code",
      "source": [
        "!pip install workalendar\n"
      ],
      "metadata": {
        "colab": {
          "base_uri": "https://localhost:8080/"
        },
        "id": "k-57NK73gqUl",
        "outputId": "b6df047e-5744-48d4-f4a4-0330f54a2a52"
      },
      "execution_count": 20,
      "outputs": [
        {
          "output_type": "stream",
          "name": "stdout",
          "text": [
            "Looking in indexes: https://pypi.org/simple, https://us-python.pkg.dev/colab-wheels/public/simple/\n",
            "Requirement already satisfied: workalendar in /usr/local/lib/python3.9/dist-packages (17.0.0)\n",
            "Requirement already satisfied: convertdate in /usr/local/lib/python3.9/dist-packages (from workalendar) (2.4.0)\n",
            "Requirement already satisfied: lunardate in /usr/local/lib/python3.9/dist-packages (from workalendar) (0.2.0)\n",
            "Requirement already satisfied: pyluach in /usr/local/lib/python3.9/dist-packages (from workalendar) (2.2.0)\n",
            "Requirement already satisfied: python-dateutil in /usr/local/lib/python3.9/dist-packages (from workalendar) (2.8.2)\n",
            "Requirement already satisfied: pymeeus<=1,>=0.3.13 in /usr/local/lib/python3.9/dist-packages (from convertdate->workalendar) (0.5.12)\n",
            "Requirement already satisfied: six>=1.5 in /usr/local/lib/python3.9/dist-packages (from python-dateutil->workalendar) (1.16.0)\n"
          ]
        }
      ]
    },
    {
      "cell_type": "code",
      "source": [
        "from datetime import date, timedelta, datetime\n",
        "from workalendar.america import Brazil"
      ],
      "metadata": {
        "id": "vCv7kwu0gwpU"
      },
      "execution_count": 21,
      "outputs": []
    },
    {
      "cell_type": "code",
      "source": [
        "from datetime import date, timedelta, datetime\n",
        "from workalendar.america import Brazil\n",
        "\n",
        "cal = Brazil()\n",
        "\n",
        "data_inicial_str = input(\"Digite a primeira data no formato (dd/mm/aaaa): \")\n",
        "data_final_str = input(\"Digite a segunda data no formato (dd/mm/aaaa): \")\n",
        "\n",
        "data_inicial = datetime.strptime(data_inicial_str, \"%d/%m/%Y\").date()\n",
        "data_final = datetime.strptime(data_final_str, \"%d/%m/%Y\").date()\n",
        "\n",
        "dias_corridos = (data_final - data_inicial).days + 1\n",
        "\n",
        "feriados = cal.holidays(data_inicial.year)\n",
        "feriados_no_periodo = [f[0] for f in feriados if data_inicial <= f[0] <= data_final]\n",
        "dias_uteis = cal.get_working_days_delta(data_inicial, data_final) - len(feriados_no_periodo)\n",
        "\n",
        "print(\"O número de dias corridos entre as datas é: \", dias_corridos)\n",
        "print(\"O número de dias úteis entre as datas é: \", dias_uteis)\n"
      ],
      "metadata": {
        "colab": {
          "base_uri": "https://localhost:8080/"
        },
        "id": "7_8JjH_hgyNc",
        "outputId": "8f32c4e5-7c58-4b02-ee81-d15c0caa72f6"
      },
      "execution_count": 26,
      "outputs": [
        {
          "output_type": "stream",
          "name": "stdout",
          "text": [
            "Digite a primeira data no formato (dd/mm/aaaa): 01/04/2023\n",
            "Digite a segunda data no formato (dd/mm/aaaa): 30/04/2023\n",
            "O número de dias corridos entre as datas é:  30\n",
            "O número de dias úteis entre as datas é:  17\n"
          ]
        }
      ]
    },
    {
      "cell_type": "code",
      "source": [
        "from workalendar.core import Calendar, WesternCalendar\n",
        "from datetime import date\n",
        "\n",
        "class CuiabaCalendar(WesternCalendar):\n",
        "    FIXED_HOLIDAYS = WesternCalendar.FIXED_HOLIDAYS + (\n",
        "        (4, 8, \"Aniversário de Cuiabá\"),\n",
        "    )\n",
        "\n",
        "ano = 2023\n",
        "mes = 4\n",
        "\n",
        "cal = CuiabaCalendar()\n",
        "feriados = cal.holidays(ano)\n",
        "feriados_no_mes = [f for f in feriados if f[0].month == mes]\n",
        "\n",
        "print(f\"No mês de abril de {ano}, a cidade de Cuiabá terá {len(feriados_no_mes)} feriado(s):\")\n",
        "for f in feriados_no_mes:\n",
        "    print(f[0].strftime(\"%d/%m/%Y\"), \"-\", f[0].strftime(\"%A\"), \"-\", f[1])\n"
      ],
      "metadata": {
        "colab": {
          "base_uri": "https://localhost:8080/"
        },
        "id": "Fy6dWCtdlDVz",
        "outputId": "4e3d944c-6416-4e72-dd20-08c7b0a81c9f"
      },
      "execution_count": 25,
      "outputs": [
        {
          "output_type": "stream",
          "name": "stdout",
          "text": [
            "No mês de abril de 2023, a cidade de Cuiabá terá 1 feriado(s):\n",
            "08/04/2023 - Saturday - Aniversário de Cuiabá\n"
          ]
        }
      ]
    }
  ]
}